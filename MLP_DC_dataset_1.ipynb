{
 "cells": [
  {
   "cell_type": "code",
   "execution_count": 1,
   "id": "6a5cc825",
   "metadata": {},
   "outputs": [],
   "source": [
    "# importando algumas bibliotecas\n",
    "import os\n",
    "import numpy as np\n",
    "from numpy import asarray\n",
    "from PIL import Image\n",
    "import matplotlib.pyplot as plt\n",
    "\n",
    "# definindo os paths para os conjuntos de dados\n",
    "dataset_path = 'C:/Users/João Gabriel Torres/DC-ped-dataset'\n",
    "train_set_1_path_ped = dataset_path + '/1/ped_examples'\n",
    "train_set_1_path_non_ped = dataset_path  + '/1/non-ped_examples'\n",
    "\n",
    "train_set_2_path_ped = dataset_path + '/2/ped_examples'\n",
    "train_set_2_path_non_ped = dataset_path  + '/2/non-ped_examples'\n",
    "\n",
    "train_set_3_path_ped = dataset_path + '/3/ped_examples'\n",
    "train_set_3_path_non_ped = dataset_path  + '/3/non-ped_examples'\n",
    "\n",
    "train_set_4_path_ped = dataset_path + '/T1/ped_examples'\n",
    "train_set_4_path_non_ped = dataset_path  + '/T1/non-ped_examples'\n",
    "\n",
    "test_set_path_ped = dataset_path + '/T2/ped_examples'\n",
    "test_set_path_non_ped = dataset_path  + '/T2/non-ped_examples'"
   ]
  },
  {
   "cell_type": "code",
   "execution_count": 2,
   "id": "355e041d",
   "metadata": {},
   "outputs": [],
   "source": [
    "# função que o path para as imagens do conjunto de dados e retorna uma matriz numpy correspondente (nesse caso 36 x 18)\n",
    "def addToSet(images_path):\n",
    "    images_data = []\n",
    "    for pgm_image in os.listdir(images_path):\n",
    "        pgm_img = Image.open(os.path.join(images_path, pgm_image))\n",
    "        images_data.append(asarray(pgm_img))\n",
    "    return images_data\n",
    "\n",
    "# criando arrays do numpy para receber os dados\n",
    "train_data_ped_1 = np.array(addToSet(train_set_1_path_ped))\n",
    "train_data_ped_2 = np.array(addToSet(train_set_2_path_ped))\n",
    "train_data_ped_3 = np.array(addToSet(train_set_3_path_ped))\n",
    "train_data_ped_4 = np.array(addToSet(train_set_4_path_ped))\n",
    "\n",
    "# concatenando os dados em 1 conjunto só\n",
    "ped_train_set = np.concatenate((train_data_ped_1,train_data_ped_2, train_data_ped_3, train_data_ped_4))\n",
    "\n",
    "# mesmo processo só que com os dados de não pedestres\n",
    "train_data_non_ped_1 = np.array(addToSet(train_set_1_path_non_ped))\n",
    "train_data_non_ped_2 = np.array(addToSet(train_set_2_path_non_ped))\n",
    "train_data_non_ped_3 = np.array(addToSet(train_set_3_path_non_ped))\n",
    "train_data_non_ped_4 = np.array(addToSet(train_set_4_path_non_ped))\n",
    "\n",
    "non_ped_train_set = np.concatenate((train_data_non_ped_1, train_data_non_ped_2, train_data_non_ped_3, train_data_non_ped_4))"
   ]
  },
  {
   "cell_type": "code",
   "execution_count": 3,
   "id": "bc52c9c5",
   "metadata": {},
   "outputs": [
    {
     "data": {
      "text/plain": [
       "(4800, 36, 18)"
      ]
     },
     "execution_count": 3,
     "metadata": {},
     "output_type": "execute_result"
    }
   ],
   "source": [
    "train_data_ped_1.shape"
   ]
  },
  {
   "cell_type": "code",
   "execution_count": 4,
   "id": "8a98bdef",
   "metadata": {},
   "outputs": [],
   "source": [
    "test_data_ped = np.array(addToSet(test_set_path_ped))\n",
    "test_data_non_ped = np.array(addToSet(test_set_path_non_ped))\n",
    "\n",
    "test_ped_labels = []\n",
    "\n",
    "for i in range(len(test_data_ped)):\n",
    "    test_ped_labels.append(1)\n",
    "\n",
    "test_ped_labels = np.array(test_ped_labels)\n",
    "\n",
    "\n",
    "test_non_ped_labels = []\n",
    "\n",
    "for i in range(len(test_data_non_ped)):\n",
    "    test_non_ped_labels.append(0)\n",
    "\n",
    "test_non_ped_labels = np.array(test_non_ped_labels)\n",
    "\n",
    "non_flattened_test_set = np.array(np.concatenate((test_data_ped, test_data_non_ped)))\n",
    "non_shulffled_test_set = non_flattened_test_set.reshape(9800, 648)\n",
    "non_shuffled_test_set_labels = np.array(np.concatenate((test_ped_labels, test_non_ped_labels)))\n",
    "\n",
    "test_set = non_shulffled_test_set\n",
    "test_set_labels = non_shuffled_test_set_labels\n",
    "\n",
    "np.random.seed(17)\n",
    "\n",
    "test_shuffle_index = np.random.permutation(len(test_set))\n",
    "\n",
    "test_set, test_set_labels = test_set[test_shuffle_index], test_set_labels[test_shuffle_index]"
   ]
  },
  {
   "cell_type": "code",
   "execution_count": 5,
   "id": "0a9a7c95",
   "metadata": {},
   "outputs": [],
   "source": [
    "# criando as labels para as imagens de pedestres dos conjuntos de teste\n",
    "train_ped_labels = []\n",
    "\n",
    "for i in range(0, len(ped_train_set)):\n",
    "    train_ped_labels.append(1) \n",
    "\n",
    "# pedestres serão representados pelo valor 1"
   ]
  },
  {
   "cell_type": "code",
   "execution_count": 6,
   "id": "6057dca1",
   "metadata": {},
   "outputs": [],
   "source": [
    "train_non_ped_labels = []\n",
    "\n",
    "for i in range(0, len(non_ped_train_set)):\n",
    "    train_non_ped_labels.append(0) \n",
    "\n",
    "# não pedestres serão representados pelo valor 0"
   ]
  },
  {
   "cell_type": "code",
   "execution_count": 7,
   "id": "76ad0d79",
   "metadata": {},
   "outputs": [],
   "source": [
    "# concatenando pedestres com não pedestres e suas respectivas labels\n",
    "train_non_ped_labels = np.array(train_non_ped_labels)\n",
    "train_ped_labels = np.array(train_ped_labels)\n",
    "\n",
    "all_non_shuffled_labels = np.concatenate((train_ped_labels, train_non_ped_labels)) \n",
    "non_shuffled_train_set = np.concatenate((ped_train_set, non_ped_train_set))"
   ]
  },
  {
   "cell_type": "code",
   "execution_count": 8,
   "id": "3a6e3f9f",
   "metadata": {},
   "outputs": [],
   "source": [
    "# conjunto de teste final e labels finais\n",
    "non_flattened_train_set, train_set_labels = non_shuffled_train_set, all_non_shuffled_labels\n",
    "\n",
    "train_set = non_flattened_train_set.reshape(39200, 648)\n",
    "\n",
    "np.random.seed(42)\n",
    "\n",
    "# embaralhando os conjuntos de dados e labels\n",
    "shuffle_index = np.random.permutation(len(train_set))\n",
    "train_set, train_set_labels = train_set[shuffle_index], train_set_labels[shuffle_index]"
   ]
  },
  {
   "cell_type": "code",
   "execution_count": 9,
   "id": "d505dfba",
   "metadata": {},
   "outputs": [],
   "source": [
    "#from sklearn.neural_network import MLPClassifier\n",
    "#mlp_classifier = MLPClassifier(hidden_layer_sizes = (150, 100, 50), max_iter = 200, activation = 'relu', solver = 'adam', random_state = 43)\n",
    "#mlp_classifier.fit(train_set, train_set_labels)\n",
    "\n",
    "#test_pred = mlp_classifier.predict(test_set)"
   ]
  },
  {
   "cell_type": "code",
   "execution_count": 10,
   "id": "ca6426d8",
   "metadata": {},
   "outputs": [],
   "source": [
    "#def accuracy(confusion_matrix):\n",
    "#    diagonal_sum = confusion_matrix.trace()\n",
    "#    sum_of_all_elements = confusion_matrix.sum()\n",
    "#    return diagonal_sum/sum_of_all_elements\n",
    "\n",
    "#from  sklearn.metrics import confusion_matrix\n",
    "\n",
    "#conf_mat = confusion_matrix(test_pred, test_set_labels)\n",
    "#print(\"Acurácia: \", accuracy(conf_mat)) \n",
    "\n",
    "#alguns_dados = test_set[:10]\n",
    "#algumas_labels = test_set_labels[:10]\n",
    "\n",
    "#print(\"Predições: \", mlp_classifier.predict(alguns_dados))\n",
    "#print(\"Rótulos: \", algumas_labels)"
   ]
  },
  {
   "cell_type": "code",
   "execution_count": 11,
   "id": "4fc5a8a2",
   "metadata": {},
   "outputs": [],
   "source": [
    "#from sklearn.metrics import ConfusionMatrixDisplay\n",
    "#ConfusionMatrixDisplay(conf_mat).plot()"
   ]
  },
  {
   "cell_type": "code",
   "execution_count": 12,
   "id": "60b5b91d",
   "metadata": {},
   "outputs": [],
   "source": [
    "#from sklearn.model_selection import cross_validate\n",
    "\n",
    "#metricas = cross_validate(mlp_classifier, train_set, train_set_labels, scoring=tipos_de_metricas, cv=5)\n",
    "\n",
    "\n",
    "#for met in metricas:\n",
    "#   print(f\"- {met}:\")\n",
    "#   print(f\"-- {metricas[met]}\")\n",
    "#   print(f\"-- {np.mean(metricas[met])} +- {np.std(metricas[met])}\\n\")"
   ]
  },
  {
   "cell_type": "code",
   "execution_count": 25,
   "id": "4d070d44",
   "metadata": {},
   "outputs": [
    {
     "name": "stderr",
     "output_type": "stream",
     "text": [
      "C:\\conda\\envs\\ITS_IC\\lib\\site-packages\\sklearn\\metrics\\_classification.py:1334: UndefinedMetricWarning: Precision is ill-defined and being set to 0.0 in labels with no predicted samples. Use `zero_division` parameter to control this behavior.\n",
      "  _warn_prf(average, modifier, msg_start, len(result))\n",
      "C:\\conda\\envs\\ITS_IC\\lib\\site-packages\\sklearn\\metrics\\_classification.py:1334: UndefinedMetricWarning: Precision is ill-defined and being set to 0.0 in labels with no predicted samples. Use `zero_division` parameter to control this behavior.\n",
      "  _warn_prf(average, modifier, msg_start, len(result))\n",
      "C:\\conda\\envs\\ITS_IC\\lib\\site-packages\\sklearn\\metrics\\_classification.py:1334: UndefinedMetricWarning: Precision is ill-defined and being set to 0.0 in labels with no predicted samples. Use `zero_division` parameter to control this behavior.\n",
      "  _warn_prf(average, modifier, msg_start, len(result))\n",
      "C:\\conda\\envs\\ITS_IC\\lib\\site-packages\\sklearn\\metrics\\_classification.py:1334: UndefinedMetricWarning: Precision is ill-defined and being set to 0.0 in labels with no predicted samples. Use `zero_division` parameter to control this behavior.\n",
      "  _warn_prf(average, modifier, msg_start, len(result))\n",
      "C:\\conda\\envs\\ITS_IC\\lib\\site-packages\\sklearn\\metrics\\_classification.py:1334: UndefinedMetricWarning: Precision is ill-defined and being set to 0.0 in labels with no predicted samples. Use `zero_division` parameter to control this behavior.\n",
      "  _warn_prf(average, modifier, msg_start, len(result))\n",
      "C:\\conda\\envs\\ITS_IC\\lib\\site-packages\\sklearn\\metrics\\_classification.py:1334: UndefinedMetricWarning: Precision is ill-defined and being set to 0.0 in labels with no predicted samples. Use `zero_division` parameter to control this behavior.\n",
      "  _warn_prf(average, modifier, msg_start, len(result))\n",
      "C:\\conda\\envs\\ITS_IC\\lib\\site-packages\\sklearn\\metrics\\_classification.py:1334: UndefinedMetricWarning: Precision is ill-defined and being set to 0.0 in labels with no predicted samples. Use `zero_division` parameter to control this behavior.\n",
      "  _warn_prf(average, modifier, msg_start, len(result))\n",
      "C:\\conda\\envs\\ITS_IC\\lib\\site-packages\\sklearn\\metrics\\_classification.py:1334: UndefinedMetricWarning: Precision is ill-defined and being set to 0.0 in labels with no predicted samples. Use `zero_division` parameter to control this behavior.\n",
      "  _warn_prf(average, modifier, msg_start, len(result))\n",
      "C:\\conda\\envs\\ITS_IC\\lib\\site-packages\\sklearn\\metrics\\_classification.py:1334: UndefinedMetricWarning: Precision is ill-defined and being set to 0.0 in labels with no predicted samples. Use `zero_division` parameter to control this behavior.\n",
      "  _warn_prf(average, modifier, msg_start, len(result))\n",
      "C:\\conda\\envs\\ITS_IC\\lib\\site-packages\\sklearn\\metrics\\_classification.py:1334: UndefinedMetricWarning: Precision is ill-defined and being set to 0.0 in labels with no predicted samples. Use `zero_division` parameter to control this behavior.\n",
      "  _warn_prf(average, modifier, msg_start, len(result))\n",
      "C:\\conda\\envs\\ITS_IC\\lib\\site-packages\\sklearn\\metrics\\_classification.py:1334: UndefinedMetricWarning: Precision is ill-defined and being set to 0.0 in labels with no predicted samples. Use `zero_division` parameter to control this behavior.\n",
      "  _warn_prf(average, modifier, msg_start, len(result))\n",
      "C:\\conda\\envs\\ITS_IC\\lib\\site-packages\\sklearn\\metrics\\_classification.py:1334: UndefinedMetricWarning: Precision is ill-defined and being set to 0.0 in labels with no predicted samples. Use `zero_division` parameter to control this behavior.\n",
      "  _warn_prf(average, modifier, msg_start, len(result))\n",
      "C:\\conda\\envs\\ITS_IC\\lib\\site-packages\\sklearn\\metrics\\_classification.py:1334: UndefinedMetricWarning: Precision is ill-defined and being set to 0.0 in labels with no predicted samples. Use `zero_division` parameter to control this behavior.\n",
      "  _warn_prf(average, modifier, msg_start, len(result))\n",
      "C:\\conda\\envs\\ITS_IC\\lib\\site-packages\\sklearn\\metrics\\_classification.py:1334: UndefinedMetricWarning: Precision is ill-defined and being set to 0.0 in labels with no predicted samples. Use `zero_division` parameter to control this behavior.\n",
      "  _warn_prf(average, modifier, msg_start, len(result))\n",
      "C:\\conda\\envs\\ITS_IC\\lib\\site-packages\\sklearn\\metrics\\_classification.py:1334: UndefinedMetricWarning: Precision is ill-defined and being set to 0.0 in labels with no predicted samples. Use `zero_division` parameter to control this behavior.\n",
      "  _warn_prf(average, modifier, msg_start, len(result))\n",
      "C:\\conda\\envs\\ITS_IC\\lib\\site-packages\\sklearn\\metrics\\_classification.py:1334: UndefinedMetricWarning: Precision is ill-defined and being set to 0.0 in labels with no predicted samples. Use `zero_division` parameter to control this behavior.\n",
      "  _warn_prf(average, modifier, msg_start, len(result))\n",
      "C:\\conda\\envs\\ITS_IC\\lib\\site-packages\\sklearn\\metrics\\_classification.py:1334: UndefinedMetricWarning: Precision is ill-defined and being set to 0.0 in labels with no predicted samples. Use `zero_division` parameter to control this behavior.\n",
      "  _warn_prf(average, modifier, msg_start, len(result))\n",
      "C:\\conda\\envs\\ITS_IC\\lib\\site-packages\\sklearn\\metrics\\_classification.py:1334: UndefinedMetricWarning: Precision is ill-defined and being set to 0.0 in labels with no predicted samples. Use `zero_division` parameter to control this behavior.\n",
      "  _warn_prf(average, modifier, msg_start, len(result))\n",
      "C:\\conda\\envs\\ITS_IC\\lib\\site-packages\\sklearn\\metrics\\_classification.py:1334: UndefinedMetricWarning: Precision is ill-defined and being set to 0.0 in labels with no predicted samples. Use `zero_division` parameter to control this behavior.\n",
      "  _warn_prf(average, modifier, msg_start, len(result))\n",
      "C:\\conda\\envs\\ITS_IC\\lib\\site-packages\\sklearn\\metrics\\_classification.py:1334: UndefinedMetricWarning: Precision is ill-defined and being set to 0.0 in labels with no predicted samples. Use `zero_division` parameter to control this behavior.\n",
      "  _warn_prf(average, modifier, msg_start, len(result))\n",
      "C:\\conda\\envs\\ITS_IC\\lib\\site-packages\\sklearn\\metrics\\_classification.py:1334: UndefinedMetricWarning: Precision is ill-defined and being set to 0.0 in labels with no predicted samples. Use `zero_division` parameter to control this behavior.\n",
      "  _warn_prf(average, modifier, msg_start, len(result))\n",
      "C:\\conda\\envs\\ITS_IC\\lib\\site-packages\\sklearn\\metrics\\_classification.py:1334: UndefinedMetricWarning: Precision is ill-defined and being set to 0.0 in labels with no predicted samples. Use `zero_division` parameter to control this behavior.\n",
      "  _warn_prf(average, modifier, msg_start, len(result))\n",
      "C:\\conda\\envs\\ITS_IC\\lib\\site-packages\\sklearn\\metrics\\_classification.py:1334: UndefinedMetricWarning: Precision is ill-defined and being set to 0.0 in labels with no predicted samples. Use `zero_division` parameter to control this behavior.\n",
      "  _warn_prf(average, modifier, msg_start, len(result))\n",
      "C:\\conda\\envs\\ITS_IC\\lib\\site-packages\\sklearn\\metrics\\_classification.py:1334: UndefinedMetricWarning: Precision is ill-defined and being set to 0.0 in labels with no predicted samples. Use `zero_division` parameter to control this behavior.\n",
      "  _warn_prf(average, modifier, msg_start, len(result))\n",
      "C:\\conda\\envs\\ITS_IC\\lib\\site-packages\\sklearn\\metrics\\_classification.py:1334: UndefinedMetricWarning: Precision is ill-defined and being set to 0.0 in labels with no predicted samples. Use `zero_division` parameter to control this behavior.\n",
      "  _warn_prf(average, modifier, msg_start, len(result))\n",
      "C:\\conda\\envs\\ITS_IC\\lib\\site-packages\\sklearn\\utils\\extmath.py:152: RuntimeWarning: overflow encountered in matmul\n",
      "  ret = a @ b\n",
      "C:\\conda\\envs\\ITS_IC\\lib\\site-packages\\sklearn\\utils\\extmath.py:152: RuntimeWarning: invalid value encountered in matmul\n",
      "  ret = a @ b\n",
      "C:\\conda\\envs\\ITS_IC\\lib\\site-packages\\sklearn\\neural_network\\_multilayer_perceptron.py:702: ConvergenceWarning: Stochastic Optimizer: Maximum iterations (500) reached and the optimization hasn't converged yet.\n",
      "  warnings.warn(\n",
      "C:\\conda\\envs\\ITS_IC\\lib\\site-packages\\sklearn\\neural_network\\_multilayer_perceptron.py:702: ConvergenceWarning: Stochastic Optimizer: Maximum iterations (500) reached and the optimization hasn't converged yet.\n",
      "  warnings.warn(\n",
      "C:\\conda\\envs\\ITS_IC\\lib\\site-packages\\sklearn\\metrics\\_classification.py:1334: UndefinedMetricWarning: Precision is ill-defined and being set to 0.0 in labels with no predicted samples. Use `zero_division` parameter to control this behavior.\n",
      "  _warn_prf(average, modifier, msg_start, len(result))\n",
      "C:\\conda\\envs\\ITS_IC\\lib\\site-packages\\sklearn\\metrics\\_classification.py:1334: UndefinedMetricWarning: Precision is ill-defined and being set to 0.0 in labels with no predicted samples. Use `zero_division` parameter to control this behavior.\n",
      "  _warn_prf(average, modifier, msg_start, len(result))\n",
      "C:\\conda\\envs\\ITS_IC\\lib\\site-packages\\sklearn\\metrics\\_classification.py:1334: UndefinedMetricWarning: Precision is ill-defined and being set to 0.0 in labels with no predicted samples. Use `zero_division` parameter to control this behavior.\n",
      "  _warn_prf(average, modifier, msg_start, len(result))\n",
      "C:\\conda\\envs\\ITS_IC\\lib\\site-packages\\sklearn\\metrics\\_classification.py:1334: UndefinedMetricWarning: Precision is ill-defined and being set to 0.0 in labels with no predicted samples. Use `zero_division` parameter to control this behavior.\n",
      "  _warn_prf(average, modifier, msg_start, len(result))\n",
      "C:\\conda\\envs\\ITS_IC\\lib\\site-packages\\sklearn\\metrics\\_classification.py:1334: UndefinedMetricWarning: Precision is ill-defined and being set to 0.0 in labels with no predicted samples. Use `zero_division` parameter to control this behavior.\n",
      "  _warn_prf(average, modifier, msg_start, len(result))\n",
      "C:\\conda\\envs\\ITS_IC\\lib\\site-packages\\sklearn\\metrics\\_classification.py:1334: UndefinedMetricWarning: Precision is ill-defined and being set to 0.0 in labels with no predicted samples. Use `zero_division` parameter to control this behavior.\n",
      "  _warn_prf(average, modifier, msg_start, len(result))\n",
      "C:\\conda\\envs\\ITS_IC\\lib\\site-packages\\sklearn\\model_selection\\_validation.py:378: FitFailedWarning: \n",
      "1 fits failed out of a total of 90.\n",
      "The score on these train-test partitions for these parameters will be set to nan.\n",
      "If these failures are not expected, you can try to debug them by setting error_score='raise'.\n",
      "\n",
      "Below are more details about the failures:\n",
      "--------------------------------------------------------------------------------\n",
      "1 fits failed with the following error:\n",
      "Traceback (most recent call last):\n",
      "  File \"C:\\conda\\envs\\ITS_IC\\lib\\site-packages\\sklearn\\model_selection\\_validation.py\", line 686, in _fit_and_score\n",
      "    estimator.fit(X_train, y_train, **fit_params)\n",
      "  File \"C:\\conda\\envs\\ITS_IC\\lib\\site-packages\\sklearn\\neural_network\\_multilayer_perceptron.py\", line 762, in fit\n",
      "    return self._fit(X, y, incremental=False)\n",
      "  File \"C:\\conda\\envs\\ITS_IC\\lib\\site-packages\\sklearn\\neural_network\\_multilayer_perceptron.py\", line 448, in _fit\n",
      "    raise ValueError(\n",
      "ValueError: Solver produced non-finite parameter weights. The input data may contain large values and need to be preprocessed.\n",
      "\n",
      "  warnings.warn(some_fits_failed_message, FitFailedWarning)\n",
      "C:\\conda\\envs\\ITS_IC\\lib\\site-packages\\sklearn\\model_selection\\_search.py:953: UserWarning: One or more of the test scores are non-finite: [0.93795918 0.92257653 0.94576531 0.54821429 0.54369898 0.57780612\n",
      " 0.72209184 0.76668367 0.79030612 0.63147959 0.57545918        nan\n",
      " 0.62438776 0.66487245 0.69591837 0.84982143 0.81852041 0.86780612]\n",
      "  warnings.warn(\n",
      "C:\\conda\\envs\\ITS_IC\\lib\\site-packages\\sklearn\\model_selection\\_search.py:953: UserWarning: One or more of the train scores are non-finite: [0.97241071 0.9603699  0.98401786 0.549375   0.54356505 0.57879464\n",
      " 0.72443878 0.76639668 0.79459184 0.63961097 0.57737883        nan\n",
      " 0.62676658 0.6655102  0.69811862 0.85570153 0.82291454 0.87424745]\n",
      "  warnings.warn(\n",
      "C:\\conda\\envs\\ITS_IC\\lib\\site-packages\\sklearn\\model_selection\\_search.py:953: UserWarning: One or more of the test scores are non-finite: [0.9388021  0.92367696 0.9462929  0.54787834 0.52192602 0.44750149\n",
      " 0.6787882  0.78569909 0.79305466 0.53071822 0.37435402        nan\n",
      " 0.66799793 0.72169276 0.71471445 0.85091098 0.8200301  0.86818827]\n",
      "  warnings.warn(\n",
      "C:\\conda\\envs\\ITS_IC\\lib\\site-packages\\sklearn\\model_selection\\_search.py:953: UserWarning: One or more of the train scores are non-finite: [0.97302667 0.96122211 0.98424492 0.52020287 0.50795911 0.44734616\n",
      " 0.68030758 0.78476844 0.79700604 0.48880097 0.37597677        nan\n",
      " 0.6704377  0.72283018 0.71732365 0.85700757 0.82439307 0.87453047]\n",
      "  warnings.warn(\n",
      "C:\\conda\\envs\\ITS_IC\\lib\\site-packages\\sklearn\\model_selection\\_search.py:953: UserWarning: One or more of the test scores are non-finite: [0.93792396 0.92271042 0.94582083 0.543575   0.54450938 0.57432396\n",
      " 0.71977917 0.76811042 0.789925   0.62961979 0.5716125         nan\n",
      " 0.62920312 0.66696354 0.69780833 0.85006042 0.81906875 0.8680375 ]\n",
      "  warnings.warn(\n",
      "C:\\conda\\envs\\ITS_IC\\lib\\site-packages\\sklearn\\model_selection\\_search.py:953: UserWarning: One or more of the train scores are non-finite: [0.97238255 0.96049089 0.98398177 0.54471563 0.54438854 0.57536563\n",
      " 0.72209401 0.76778724 0.79420599 0.63771563 0.57349141        nan\n",
      " 0.63151745 0.66752656 0.70000182 0.85593594 0.82347292 0.87447109]\n",
      "  warnings.warn(\n",
      "C:\\conda\\envs\\ITS_IC\\lib\\site-packages\\sklearn\\model_selection\\_search.py:953: UserWarning: One or more of the test scores are non-finite: [0.93789395 0.92251399 0.94572787 0.413501   0.40898219 0.46409041\n",
      " 0.68578333 0.76290842 0.78951708 0.53037169 0.43978769        nan\n",
      " 0.59814622 0.6401219  0.69046911 0.84971733 0.81841665 0.86777563]\n",
      "  warnings.warn(\n",
      "C:\\conda\\envs\\ITS_IC\\lib\\site-packages\\sklearn\\model_selection\\_search.py:953: UserWarning: One or more of the train scores are non-finite: [0.97238572 0.960345   0.98400651 0.41525088 0.40886129 0.4659992\n",
      " 0.68831214 0.76272544 0.79387277 0.53845385 0.44172946        nan\n",
      " 0.60143244 0.64084213 0.69263196 0.85557515 0.82282297 0.87422548]\n",
      "  warnings.warn(\n"
     ]
    },
    {
     "data": {
      "text/html": [
       "<style>#sk-container-id-2 {color: black;background-color: white;}#sk-container-id-2 pre{padding: 0;}#sk-container-id-2 div.sk-toggleable {background-color: white;}#sk-container-id-2 label.sk-toggleable__label {cursor: pointer;display: block;width: 100%;margin-bottom: 0;padding: 0.3em;box-sizing: border-box;text-align: center;}#sk-container-id-2 label.sk-toggleable__label-arrow:before {content: \"▸\";float: left;margin-right: 0.25em;color: #696969;}#sk-container-id-2 label.sk-toggleable__label-arrow:hover:before {color: black;}#sk-container-id-2 div.sk-estimator:hover label.sk-toggleable__label-arrow:before {color: black;}#sk-container-id-2 div.sk-toggleable__content {max-height: 0;max-width: 0;overflow: hidden;text-align: left;background-color: #f0f8ff;}#sk-container-id-2 div.sk-toggleable__content pre {margin: 0.2em;color: black;border-radius: 0.25em;background-color: #f0f8ff;}#sk-container-id-2 input.sk-toggleable__control:checked~div.sk-toggleable__content {max-height: 200px;max-width: 100%;overflow: auto;}#sk-container-id-2 input.sk-toggleable__control:checked~label.sk-toggleable__label-arrow:before {content: \"▾\";}#sk-container-id-2 div.sk-estimator input.sk-toggleable__control:checked~label.sk-toggleable__label {background-color: #d4ebff;}#sk-container-id-2 div.sk-label input.sk-toggleable__control:checked~label.sk-toggleable__label {background-color: #d4ebff;}#sk-container-id-2 input.sk-hidden--visually {border: 0;clip: rect(1px 1px 1px 1px);clip: rect(1px, 1px, 1px, 1px);height: 1px;margin: -1px;overflow: hidden;padding: 0;position: absolute;width: 1px;}#sk-container-id-2 div.sk-estimator {font-family: monospace;background-color: #f0f8ff;border: 1px dotted black;border-radius: 0.25em;box-sizing: border-box;margin-bottom: 0.5em;}#sk-container-id-2 div.sk-estimator:hover {background-color: #d4ebff;}#sk-container-id-2 div.sk-parallel-item::after {content: \"\";width: 100%;border-bottom: 1px solid gray;flex-grow: 1;}#sk-container-id-2 div.sk-label:hover label.sk-toggleable__label {background-color: #d4ebff;}#sk-container-id-2 div.sk-serial::before {content: \"\";position: absolute;border-left: 1px solid gray;box-sizing: border-box;top: 0;bottom: 0;left: 50%;z-index: 0;}#sk-container-id-2 div.sk-serial {display: flex;flex-direction: column;align-items: center;background-color: white;padding-right: 0.2em;padding-left: 0.2em;position: relative;}#sk-container-id-2 div.sk-item {position: relative;z-index: 1;}#sk-container-id-2 div.sk-parallel {display: flex;align-items: stretch;justify-content: center;background-color: white;position: relative;}#sk-container-id-2 div.sk-item::before, #sk-container-id-2 div.sk-parallel-item::before {content: \"\";position: absolute;border-left: 1px solid gray;box-sizing: border-box;top: 0;bottom: 0;left: 50%;z-index: -1;}#sk-container-id-2 div.sk-parallel-item {display: flex;flex-direction: column;z-index: 1;position: relative;background-color: white;}#sk-container-id-2 div.sk-parallel-item:first-child::after {align-self: flex-end;width: 50%;}#sk-container-id-2 div.sk-parallel-item:last-child::after {align-self: flex-start;width: 50%;}#sk-container-id-2 div.sk-parallel-item:only-child::after {width: 0;}#sk-container-id-2 div.sk-dashed-wrapped {border: 1px dashed gray;margin: 0 0.4em 0.5em 0.4em;box-sizing: border-box;padding-bottom: 0.4em;background-color: white;}#sk-container-id-2 div.sk-label label {font-family: monospace;font-weight: bold;display: inline-block;line-height: 1.2em;}#sk-container-id-2 div.sk-label-container {text-align: center;}#sk-container-id-2 div.sk-container {/* jupyter's `normalize.less` sets `[hidden] { display: none; }` but bootstrap.min.css set `[hidden] { display: none !important; }` so we also need the `!important` here to be able to override the default hidden behavior on the sphinx rendered scikit-learn.org. See: https://github.com/scikit-learn/scikit-learn/issues/21755 */display: inline-block !important;position: relative;}#sk-container-id-2 div.sk-text-repr-fallback {display: none;}</style><div id=\"sk-container-id-2\" class=\"sk-top-container\"><div class=\"sk-text-repr-fallback\"><pre>GridSearchCV(cv=5, estimator=MLPClassifier(),\n",
       "             param_grid=[{&#x27;activation&#x27;: [&#x27;relu&#x27;, &#x27;tanh&#x27;, &#x27;logistic&#x27;],\n",
       "                          &#x27;hidden_layer_sizes&#x27;: [(150, 100, 50), (75, 50, 25),\n",
       "                                                 (300, 200, 100)],\n",
       "                          &#x27;max_iter&#x27;: [200], &#x27;solver&#x27;: [&#x27;adam&#x27;]},\n",
       "                         {&#x27;activation&#x27;: [&#x27;relu&#x27;, &#x27;tanh&#x27;, &#x27;logistic&#x27;],\n",
       "                          &#x27;hidden_layer_sizes&#x27;: [(150, 100, 50), (75, 50, 25),\n",
       "                                                 (300, 200, 100)],\n",
       "                          &#x27;max_iter&#x27;: [500], &#x27;solver&#x27;: [&#x27;sgd&#x27;]}],\n",
       "             refit=&#x27;f1_macro&#x27;, return_train_score=True,\n",
       "             scoring=[&#x27;accuracy&#x27;, &#x27;precision_macro&#x27;, &#x27;recall_macro&#x27;,\n",
       "                      &#x27;f1_macro&#x27;])</pre><b>In a Jupyter environment, please rerun this cell to show the HTML representation or trust the notebook. <br />On GitHub, the HTML representation is unable to render, please try loading this page with nbviewer.org.</b></div><div class=\"sk-container\" hidden><div class=\"sk-item sk-dashed-wrapped\"><div class=\"sk-label-container\"><div class=\"sk-label sk-toggleable\"><input class=\"sk-toggleable__control sk-hidden--visually\" id=\"sk-estimator-id-4\" type=\"checkbox\" ><label for=\"sk-estimator-id-4\" class=\"sk-toggleable__label sk-toggleable__label-arrow\">GridSearchCV</label><div class=\"sk-toggleable__content\"><pre>GridSearchCV(cv=5, estimator=MLPClassifier(),\n",
       "             param_grid=[{&#x27;activation&#x27;: [&#x27;relu&#x27;, &#x27;tanh&#x27;, &#x27;logistic&#x27;],\n",
       "                          &#x27;hidden_layer_sizes&#x27;: [(150, 100, 50), (75, 50, 25),\n",
       "                                                 (300, 200, 100)],\n",
       "                          &#x27;max_iter&#x27;: [200], &#x27;solver&#x27;: [&#x27;adam&#x27;]},\n",
       "                         {&#x27;activation&#x27;: [&#x27;relu&#x27;, &#x27;tanh&#x27;, &#x27;logistic&#x27;],\n",
       "                          &#x27;hidden_layer_sizes&#x27;: [(150, 100, 50), (75, 50, 25),\n",
       "                                                 (300, 200, 100)],\n",
       "                          &#x27;max_iter&#x27;: [500], &#x27;solver&#x27;: [&#x27;sgd&#x27;]}],\n",
       "             refit=&#x27;f1_macro&#x27;, return_train_score=True,\n",
       "             scoring=[&#x27;accuracy&#x27;, &#x27;precision_macro&#x27;, &#x27;recall_macro&#x27;,\n",
       "                      &#x27;f1_macro&#x27;])</pre></div></div></div><div class=\"sk-parallel\"><div class=\"sk-parallel-item\"><div class=\"sk-item\"><div class=\"sk-label-container\"><div class=\"sk-label sk-toggleable\"><input class=\"sk-toggleable__control sk-hidden--visually\" id=\"sk-estimator-id-5\" type=\"checkbox\" ><label for=\"sk-estimator-id-5\" class=\"sk-toggleable__label sk-toggleable__label-arrow\">estimator: MLPClassifier</label><div class=\"sk-toggleable__content\"><pre>MLPClassifier()</pre></div></div></div><div class=\"sk-serial\"><div class=\"sk-item\"><div class=\"sk-estimator sk-toggleable\"><input class=\"sk-toggleable__control sk-hidden--visually\" id=\"sk-estimator-id-6\" type=\"checkbox\" ><label for=\"sk-estimator-id-6\" class=\"sk-toggleable__label sk-toggleable__label-arrow\">MLPClassifier</label><div class=\"sk-toggleable__content\"><pre>MLPClassifier()</pre></div></div></div></div></div></div></div></div></div></div>"
      ],
      "text/plain": [
       "GridSearchCV(cv=5, estimator=MLPClassifier(),\n",
       "             param_grid=[{'activation': ['relu', 'tanh', 'logistic'],\n",
       "                          'hidden_layer_sizes': [(150, 100, 50), (75, 50, 25),\n",
       "                                                 (300, 200, 100)],\n",
       "                          'max_iter': [200], 'solver': ['adam']},\n",
       "                         {'activation': ['relu', 'tanh', 'logistic'],\n",
       "                          'hidden_layer_sizes': [(150, 100, 50), (75, 50, 25),\n",
       "                                                 (300, 200, 100)],\n",
       "                          'max_iter': [500], 'solver': ['sgd']}],\n",
       "             refit='f1_macro', return_train_score=True,\n",
       "             scoring=['accuracy', 'precision_macro', 'recall_macro',\n",
       "                      'f1_macro'])"
      ]
     },
     "execution_count": 25,
     "metadata": {},
     "output_type": "execute_result"
    }
   ],
   "source": [
    "from sklearn.neural_network import MLPClassifier\n",
    "from sklearn.model_selection import cross_validate, GridSearchCV\n",
    "\n",
    "grid = [\n",
    "    {\n",
    "    'hidden_layer_sizes': [(150, 100, 50), (75, 50, 25), (300, 200, 100)],\n",
    "    'max_iter': [200],\n",
    "    'activation': ['relu', 'tanh', 'logistic'],\n",
    "    'solver': ['adam']\n",
    "    },\n",
    "    {\n",
    "    'hidden_layer_sizes': [(150, 100, 50), (75, 50, 25), (300, 200, 100)],\n",
    "    'max_iter': [500],\n",
    "    'activation': ['relu', 'tanh', 'logistic'],\n",
    "    'solver': ['sgd']\n",
    "    }\n",
    "] \n",
    "\n",
    "tipos_de_metricas = ['accuracy', 'precision_macro', 'recall_macro']\n",
    "mlp_classifier = MLPClassifier()\n",
    "grid_search = GridSearchCV(estimator=mlp_classifier, param_grid=grid, cv=5, refit='f1_macro',scoring=tipos_de_metricas, return_train_score=True)\n",
    "grid_search.fit(train_set, train_set_labels)"
   ]
  },
  {
   "cell_type": "code",
   "execution_count": 27,
   "id": "c2bb7332",
   "metadata": {},
   "outputs": [
    {
     "data": {
      "text/plain": [
       "{'activation': 'relu',\n",
       " 'hidden_layer_sizes': (300, 200, 100),\n",
       " 'max_iter': 200,\n",
       " 'solver': 'adam'}"
      ]
     },
     "execution_count": 27,
     "metadata": {},
     "output_type": "execute_result"
    }
   ],
   "source": [
    "grid_search.best_params_"
   ]
  },
  {
   "cell_type": "code",
   "execution_count": 32,
   "id": "2455d4ac",
   "metadata": {},
   "outputs": [
    {
     "name": "stdout",
     "output_type": "stream",
     "text": [
      "0.9378939452231043 {'activation': 'relu', 'hidden_layer_sizes': (150, 100, 50), 'max_iter': 200, 'solver': 'adam'}\n",
      "0.9225139933359356 {'activation': 'relu', 'hidden_layer_sizes': (75, 50, 25), 'max_iter': 200, 'solver': 'adam'}\n",
      "0.9457278700977026 {'activation': 'relu', 'hidden_layer_sizes': (300, 200, 100), 'max_iter': 200, 'solver': 'adam'}\n",
      "0.4135010005647268 {'activation': 'tanh', 'hidden_layer_sizes': (150, 100, 50), 'max_iter': 200, 'solver': 'adam'}\n",
      "0.40898218699729083 {'activation': 'tanh', 'hidden_layer_sizes': (75, 50, 25), 'max_iter': 200, 'solver': 'adam'}\n",
      "0.46409041294681924 {'activation': 'tanh', 'hidden_layer_sizes': (300, 200, 100), 'max_iter': 200, 'solver': 'adam'}\n",
      "0.6857833318141277 {'activation': 'logistic', 'hidden_layer_sizes': (150, 100, 50), 'max_iter': 200, 'solver': 'adam'}\n",
      "0.7629084177038289 {'activation': 'logistic', 'hidden_layer_sizes': (75, 50, 25), 'max_iter': 200, 'solver': 'adam'}\n",
      "0.78951708166893 {'activation': 'logistic', 'hidden_layer_sizes': (300, 200, 100), 'max_iter': 200, 'solver': 'adam'}\n",
      "0.5303716869361061 {'activation': 'relu', 'hidden_layer_sizes': (150, 100, 50), 'max_iter': 500, 'solver': 'sgd'}\n",
      "0.4397876917950919 {'activation': 'relu', 'hidden_layer_sizes': (75, 50, 25), 'max_iter': 500, 'solver': 'sgd'}\n",
      "nan {'activation': 'relu', 'hidden_layer_sizes': (300, 200, 100), 'max_iter': 500, 'solver': 'sgd'}\n",
      "0.5981462185106557 {'activation': 'tanh', 'hidden_layer_sizes': (150, 100, 50), 'max_iter': 500, 'solver': 'sgd'}\n",
      "0.6401219033687887 {'activation': 'tanh', 'hidden_layer_sizes': (75, 50, 25), 'max_iter': 500, 'solver': 'sgd'}\n",
      "0.6904691149793812 {'activation': 'tanh', 'hidden_layer_sizes': (300, 200, 100), 'max_iter': 500, 'solver': 'sgd'}\n",
      "0.8497173343157227 {'activation': 'logistic', 'hidden_layer_sizes': (150, 100, 50), 'max_iter': 500, 'solver': 'sgd'}\n",
      "0.8184166460223112 {'activation': 'logistic', 'hidden_layer_sizes': (75, 50, 25), 'max_iter': 500, 'solver': 'sgd'}\n",
      "0.8677756303053699 {'activation': 'logistic', 'hidden_layer_sizes': (300, 200, 100), 'max_iter': 500, 'solver': 'sgd'}\n"
     ]
    }
   ],
   "source": [
    "cvres = grid_search.cv_results_\n",
    "for mean_score, params in zip(cvres[\"mean_test_f1_macro\"], cvres[\"params\"]):\n",
    "    print(mean_score, params)"
   ]
  },
  {
   "cell_type": "code",
   "execution_count": 33,
   "id": "39fe6ab5",
   "metadata": {},
   "outputs": [
    {
     "name": "stdout",
     "output_type": "stream",
     "text": [
      "0.9379591836734693 {'activation': 'relu', 'hidden_layer_sizes': (150, 100, 50), 'max_iter': 200, 'solver': 'adam'}\n",
      "0.9225765306122449 {'activation': 'relu', 'hidden_layer_sizes': (75, 50, 25), 'max_iter': 200, 'solver': 'adam'}\n",
      "0.9457653061224489 {'activation': 'relu', 'hidden_layer_sizes': (300, 200, 100), 'max_iter': 200, 'solver': 'adam'}\n",
      "0.5482142857142858 {'activation': 'tanh', 'hidden_layer_sizes': (150, 100, 50), 'max_iter': 200, 'solver': 'adam'}\n",
      "0.5436989795918368 {'activation': 'tanh', 'hidden_layer_sizes': (75, 50, 25), 'max_iter': 200, 'solver': 'adam'}\n",
      "0.5778061224489796 {'activation': 'tanh', 'hidden_layer_sizes': (300, 200, 100), 'max_iter': 200, 'solver': 'adam'}\n",
      "0.7220918367346939 {'activation': 'logistic', 'hidden_layer_sizes': (150, 100, 50), 'max_iter': 200, 'solver': 'adam'}\n",
      "0.7666836734693877 {'activation': 'logistic', 'hidden_layer_sizes': (75, 50, 25), 'max_iter': 200, 'solver': 'adam'}\n",
      "0.7903061224489797 {'activation': 'logistic', 'hidden_layer_sizes': (300, 200, 100), 'max_iter': 200, 'solver': 'adam'}\n",
      "0.6314795918367346 {'activation': 'relu', 'hidden_layer_sizes': (150, 100, 50), 'max_iter': 500, 'solver': 'sgd'}\n",
      "0.5754591836734695 {'activation': 'relu', 'hidden_layer_sizes': (75, 50, 25), 'max_iter': 500, 'solver': 'sgd'}\n",
      "nan {'activation': 'relu', 'hidden_layer_sizes': (300, 200, 100), 'max_iter': 500, 'solver': 'sgd'}\n",
      "0.6243877551020407 {'activation': 'tanh', 'hidden_layer_sizes': (150, 100, 50), 'max_iter': 500, 'solver': 'sgd'}\n",
      "0.6648724489795919 {'activation': 'tanh', 'hidden_layer_sizes': (75, 50, 25), 'max_iter': 500, 'solver': 'sgd'}\n",
      "0.6959183673469387 {'activation': 'tanh', 'hidden_layer_sizes': (300, 200, 100), 'max_iter': 500, 'solver': 'sgd'}\n",
      "0.8498214285714285 {'activation': 'logistic', 'hidden_layer_sizes': (150, 100, 50), 'max_iter': 500, 'solver': 'sgd'}\n",
      "0.8185204081632651 {'activation': 'logistic', 'hidden_layer_sizes': (75, 50, 25), 'max_iter': 500, 'solver': 'sgd'}\n",
      "0.8678061224489795 {'activation': 'logistic', 'hidden_layer_sizes': (300, 200, 100), 'max_iter': 500, 'solver': 'sgd'}\n"
     ]
    }
   ],
   "source": [
    "cvres = grid_search.cv_results_\n",
    "for mean_score, params in zip(cvres[\"mean_test_accuracy\"], cvres[\"params\"]):\n",
    "    print(mean_score, params)"
   ]
  },
  {
   "cell_type": "code",
   "execution_count": 34,
   "id": "5ebe0ab1",
   "metadata": {},
   "outputs": [
    {
     "name": "stdout",
     "output_type": "stream",
     "text": [
      "0.938802100259274 {'activation': 'relu', 'hidden_layer_sizes': (150, 100, 50), 'max_iter': 200, 'solver': 'adam'}\n",
      "0.9236769577289652 {'activation': 'relu', 'hidden_layer_sizes': (75, 50, 25), 'max_iter': 200, 'solver': 'adam'}\n",
      "0.9462929027460938 {'activation': 'relu', 'hidden_layer_sizes': (300, 200, 100), 'max_iter': 200, 'solver': 'adam'}\n",
      "0.5478783373436709 {'activation': 'tanh', 'hidden_layer_sizes': (150, 100, 50), 'max_iter': 200, 'solver': 'adam'}\n",
      "0.5219260241647964 {'activation': 'tanh', 'hidden_layer_sizes': (75, 50, 25), 'max_iter': 200, 'solver': 'adam'}\n",
      "0.44750149293901903 {'activation': 'tanh', 'hidden_layer_sizes': (300, 200, 100), 'max_iter': 200, 'solver': 'adam'}\n",
      "0.6787882044286776 {'activation': 'logistic', 'hidden_layer_sizes': (150, 100, 50), 'max_iter': 200, 'solver': 'adam'}\n",
      "0.7856990863553458 {'activation': 'logistic', 'hidden_layer_sizes': (75, 50, 25), 'max_iter': 200, 'solver': 'adam'}\n",
      "0.7930546567985646 {'activation': 'logistic', 'hidden_layer_sizes': (300, 200, 100), 'max_iter': 200, 'solver': 'adam'}\n",
      "0.5307182216985886 {'activation': 'relu', 'hidden_layer_sizes': (150, 100, 50), 'max_iter': 500, 'solver': 'sgd'}\n",
      "0.37435401997090656 {'activation': 'relu', 'hidden_layer_sizes': (75, 50, 25), 'max_iter': 500, 'solver': 'sgd'}\n",
      "nan {'activation': 'relu', 'hidden_layer_sizes': (300, 200, 100), 'max_iter': 500, 'solver': 'sgd'}\n",
      "0.6679979300859825 {'activation': 'tanh', 'hidden_layer_sizes': (150, 100, 50), 'max_iter': 500, 'solver': 'sgd'}\n",
      "0.7216927579637871 {'activation': 'tanh', 'hidden_layer_sizes': (75, 50, 25), 'max_iter': 500, 'solver': 'sgd'}\n",
      "0.7147144464691214 {'activation': 'tanh', 'hidden_layer_sizes': (300, 200, 100), 'max_iter': 500, 'solver': 'sgd'}\n",
      "0.8509109751710711 {'activation': 'logistic', 'hidden_layer_sizes': (150, 100, 50), 'max_iter': 500, 'solver': 'sgd'}\n",
      "0.8200300963233526 {'activation': 'logistic', 'hidden_layer_sizes': (75, 50, 25), 'max_iter': 500, 'solver': 'sgd'}\n",
      "0.868188265186752 {'activation': 'logistic', 'hidden_layer_sizes': (300, 200, 100), 'max_iter': 500, 'solver': 'sgd'}\n"
     ]
    }
   ],
   "source": [
    "cvres = grid_search.cv_results_\n",
    "for mean_score, params in zip(cvres[\"mean_test_precision_macro\"], cvres[\"params\"]):\n",
    "    print(mean_score, params)"
   ]
  },
  {
   "cell_type": "code",
   "execution_count": 35,
   "id": "507eef4b",
   "metadata": {},
   "outputs": [
    {
     "name": "stdout",
     "output_type": "stream",
     "text": [
      "0.9379239583333334 {'activation': 'relu', 'hidden_layer_sizes': (150, 100, 50), 'max_iter': 200, 'solver': 'adam'}\n",
      "0.9227104166666666 {'activation': 'relu', 'hidden_layer_sizes': (75, 50, 25), 'max_iter': 200, 'solver': 'adam'}\n",
      "0.9458208333333333 {'activation': 'relu', 'hidden_layer_sizes': (300, 200, 100), 'max_iter': 200, 'solver': 'adam'}\n",
      "0.543575 {'activation': 'tanh', 'hidden_layer_sizes': (150, 100, 50), 'max_iter': 200, 'solver': 'adam'}\n",
      "0.5445093750000001 {'activation': 'tanh', 'hidden_layer_sizes': (75, 50, 25), 'max_iter': 200, 'solver': 'adam'}\n",
      "0.5743239583333334 {'activation': 'tanh', 'hidden_layer_sizes': (300, 200, 100), 'max_iter': 200, 'solver': 'adam'}\n",
      "0.7197791666666667 {'activation': 'logistic', 'hidden_layer_sizes': (150, 100, 50), 'max_iter': 200, 'solver': 'adam'}\n",
      "0.7681104166666667 {'activation': 'logistic', 'hidden_layer_sizes': (75, 50, 25), 'max_iter': 200, 'solver': 'adam'}\n",
      "0.7899249999999999 {'activation': 'logistic', 'hidden_layer_sizes': (300, 200, 100), 'max_iter': 200, 'solver': 'adam'}\n",
      "0.6296197916666666 {'activation': 'relu', 'hidden_layer_sizes': (150, 100, 50), 'max_iter': 500, 'solver': 'sgd'}\n",
      "0.5716125 {'activation': 'relu', 'hidden_layer_sizes': (75, 50, 25), 'max_iter': 500, 'solver': 'sgd'}\n",
      "nan {'activation': 'relu', 'hidden_layer_sizes': (300, 200, 100), 'max_iter': 500, 'solver': 'sgd'}\n",
      "0.629203125 {'activation': 'tanh', 'hidden_layer_sizes': (150, 100, 50), 'max_iter': 500, 'solver': 'sgd'}\n",
      "0.6669635416666667 {'activation': 'tanh', 'hidden_layer_sizes': (75, 50, 25), 'max_iter': 500, 'solver': 'sgd'}\n",
      "0.6978083333333334 {'activation': 'tanh', 'hidden_layer_sizes': (300, 200, 100), 'max_iter': 500, 'solver': 'sgd'}\n",
      "0.8500604166666668 {'activation': 'logistic', 'hidden_layer_sizes': (150, 100, 50), 'max_iter': 500, 'solver': 'sgd'}\n",
      "0.8190687499999999 {'activation': 'logistic', 'hidden_layer_sizes': (75, 50, 25), 'max_iter': 500, 'solver': 'sgd'}\n",
      "0.8680375 {'activation': 'logistic', 'hidden_layer_sizes': (300, 200, 100), 'max_iter': 500, 'solver': 'sgd'}\n"
     ]
    }
   ],
   "source": [
    "cvres = grid_search.cv_results_\n",
    "for mean_score, params in zip(cvres[\"mean_test_recall_macro\"], cvres[\"params\"]):\n",
    "    print(mean_score, params)"
   ]
  },
  {
   "cell_type": "code",
   "execution_count": 43,
   "id": "1d4052b7",
   "metadata": {},
   "outputs": [
    {
     "name": "stdout",
     "output_type": "stream",
     "text": [
      "Acurácia:  0.8527551020408163 {'activation': 'relu', 'hidden_layer_sizes': (300, 200, 100), 'max_iter': 200, 'solver': 'adam'}\n"
     ]
    },
    {
     "data": {
      "text/plain": [
       "<sklearn.metrics._plot.confusion_matrix.ConfusionMatrixDisplay at 0x28f9ada3400>"
      ]
     },
     "execution_count": 43,
     "metadata": {},
     "output_type": "execute_result"
    },
    {
     "data": {
      "image/png": "[encoded data removed]",
      "text/plain": [
       "<Figure size 640x480 with 2 Axes>"
      ]
     },
     "metadata": {},
     "output_type": "display_data"
    }
   ],
   "source": [
    "from  sklearn.metrics import confusion_matrix, ConfusionMatrixDisplay\n",
    "\n",
    "predict = grid_search.best_estimator_.predict(test_set)\n",
    "\n",
    "def accuracy(confusion_matrix):\n",
    "    diagonal_sum = confusion_matrix.trace()\n",
    "    sum_of_all_elements = confusion_matrix.sum()\n",
    "    return diagonal_sum/sum_of_all_elements\n",
    "\n",
    "conf_mat = confusion_matrix(predict, test_set_labels)\n",
    "print(\"Acurácia: \", accuracy(conf_mat), grid_search.best_params_) \n",
    "\n",
    "ConfusionMatrixDisplay(conf_mat).plot()"
   ]
  },
  {
   "cell_type": "code",
   "execution_count": 45,
   "id": "44869428",
   "metadata": {},
   "outputs": [
    {
     "data": {
      "text/plain": [
       "['Grid_MLPClassifier.sav']"
      ]
     },
     "execution_count": 45,
     "metadata": {},
     "output_type": "execute_result"
    }
   ],
   "source": [
    "import joblib\n",
    "Grid_MLPClassifier = 'Grid_MLPClassifier.sav'\n",
    "joblib.dump(grid_search, Grid_MLPClassifier)"
   ]
  },
  {
   "cell_type": "code",
   "execution_count": 51,
   "id": "31aaf892",
   "metadata": {},
   "outputs": [
    {
     "name": "stderr",
     "output_type": "stream",
     "text": [
      "C:\\conda\\envs\\ITS_IC\\lib\\site-packages\\sklearn\\metrics\\_classification.py:1334: UndefinedMetricWarning: Precision is ill-defined and being set to 0.0 in labels with no predicted samples. Use `zero_division` parameter to control this behavior.\n",
      "  _warn_prf(average, modifier, msg_start, len(result))\n",
      "C:\\conda\\envs\\ITS_IC\\lib\\site-packages\\sklearn\\metrics\\_classification.py:1334: UndefinedMetricWarning: Precision is ill-defined and being set to 0.0 in labels with no predicted samples. Use `zero_division` parameter to control this behavior.\n",
      "  _warn_prf(average, modifier, msg_start, len(result))\n",
      "C:\\conda\\envs\\ITS_IC\\lib\\site-packages\\sklearn\\metrics\\_classification.py:1334: UndefinedMetricWarning: Precision is ill-defined and being set to 0.0 in labels with no predicted samples. Use `zero_division` parameter to control this behavior.\n",
      "  _warn_prf(average, modifier, msg_start, len(result))\n",
      "C:\\conda\\envs\\ITS_IC\\lib\\site-packages\\sklearn\\metrics\\_classification.py:1334: UndefinedMetricWarning: Precision is ill-defined and being set to 0.0 in labels with no predicted samples. Use `zero_division` parameter to control this behavior.\n",
      "  _warn_prf(average, modifier, msg_start, len(result))\n",
      "C:\\conda\\envs\\ITS_IC\\lib\\site-packages\\sklearn\\metrics\\_classification.py:1334: UndefinedMetricWarning: Precision is ill-defined and being set to 0.0 in labels with no predicted samples. Use `zero_division` parameter to control this behavior.\n",
      "  _warn_prf(average, modifier, msg_start, len(result))\n",
      "C:\\conda\\envs\\ITS_IC\\lib\\site-packages\\sklearn\\metrics\\_classification.py:1334: UndefinedMetricWarning: Precision is ill-defined and being set to 0.0 in labels with no predicted samples. Use `zero_division` parameter to control this behavior.\n",
      "  _warn_prf(average, modifier, msg_start, len(result))\n",
      "C:\\conda\\envs\\ITS_IC\\lib\\site-packages\\sklearn\\metrics\\_classification.py:1334: UndefinedMetricWarning: Precision is ill-defined and being set to 0.0 in labels with no predicted samples. Use `zero_division` parameter to control this behavior.\n",
      "  _warn_prf(average, modifier, msg_start, len(result))\n",
      "C:\\conda\\envs\\ITS_IC\\lib\\site-packages\\sklearn\\metrics\\_classification.py:1334: UndefinedMetricWarning: Precision is ill-defined and being set to 0.0 in labels with no predicted samples. Use `zero_division` parameter to control this behavior.\n",
      "  _warn_prf(average, modifier, msg_start, len(result))\n",
      "C:\\conda\\envs\\ITS_IC\\lib\\site-packages\\sklearn\\metrics\\_classification.py:1334: UndefinedMetricWarning: Precision is ill-defined and being set to 0.0 in labels with no predicted samples. Use `zero_division` parameter to control this behavior.\n",
      "  _warn_prf(average, modifier, msg_start, len(result))\n",
      "C:\\conda\\envs\\ITS_IC\\lib\\site-packages\\sklearn\\metrics\\_classification.py:1334: UndefinedMetricWarning: Precision is ill-defined and being set to 0.0 in labels with no predicted samples. Use `zero_division` parameter to control this behavior.\n",
      "  _warn_prf(average, modifier, msg_start, len(result))\n",
      "C:\\conda\\envs\\ITS_IC\\lib\\site-packages\\sklearn\\metrics\\_classification.py:1334: UndefinedMetricWarning: Precision is ill-defined and being set to 0.0 in labels with no predicted samples. Use `zero_division` parameter to control this behavior.\n",
      "  _warn_prf(average, modifier, msg_start, len(result))\n",
      "C:\\conda\\envs\\ITS_IC\\lib\\site-packages\\sklearn\\metrics\\_classification.py:1334: UndefinedMetricWarning: Precision is ill-defined and being set to 0.0 in labels with no predicted samples. Use `zero_division` parameter to control this behavior.\n",
      "  _warn_prf(average, modifier, msg_start, len(result))\n",
      "C:\\conda\\envs\\ITS_IC\\lib\\site-packages\\sklearn\\metrics\\_classification.py:1334: UndefinedMetricWarning: Precision is ill-defined and being set to 0.0 in labels with no predicted samples. Use `zero_division` parameter to control this behavior.\n",
      "  _warn_prf(average, modifier, msg_start, len(result))\n",
      "C:\\conda\\envs\\ITS_IC\\lib\\site-packages\\sklearn\\metrics\\_classification.py:1334: UndefinedMetricWarning: Precision is ill-defined and being set to 0.0 in labels with no predicted samples. Use `zero_division` parameter to control this behavior.\n",
      "  _warn_prf(average, modifier, msg_start, len(result))\n",
      "C:\\conda\\envs\\ITS_IC\\lib\\site-packages\\sklearn\\metrics\\_classification.py:1334: UndefinedMetricWarning: Precision is ill-defined and being set to 0.0 in labels with no predicted samples. Use `zero_division` parameter to control this behavior.\n",
      "  _warn_prf(average, modifier, msg_start, len(result))\n",
      "C:\\conda\\envs\\ITS_IC\\lib\\site-packages\\sklearn\\metrics\\_classification.py:1334: UndefinedMetricWarning: Precision is ill-defined and being set to 0.0 in labels with no predicted samples. Use `zero_division` parameter to control this behavior.\n",
      "  _warn_prf(average, modifier, msg_start, len(result))\n",
      "C:\\conda\\envs\\ITS_IC\\lib\\site-packages\\sklearn\\metrics\\_classification.py:1334: UndefinedMetricWarning: Precision is ill-defined and being set to 0.0 in labels with no predicted samples. Use `zero_division` parameter to control this behavior.\n",
      "  _warn_prf(average, modifier, msg_start, len(result))\n",
      "C:\\conda\\envs\\ITS_IC\\lib\\site-packages\\sklearn\\metrics\\_classification.py:1334: UndefinedMetricWarning: Precision is ill-defined and being set to 0.0 in labels with no predicted samples. Use `zero_division` parameter to control this behavior.\n",
      "  _warn_prf(average, modifier, msg_start, len(result))\n",
      "C:\\conda\\envs\\ITS_IC\\lib\\site-packages\\sklearn\\metrics\\_classification.py:1334: UndefinedMetricWarning: Precision is ill-defined and being set to 0.0 in labels with no predicted samples. Use `zero_division` parameter to control this behavior.\n",
      "  _warn_prf(average, modifier, msg_start, len(result))\n",
      "C:\\conda\\envs\\ITS_IC\\lib\\site-packages\\sklearn\\metrics\\_classification.py:1334: UndefinedMetricWarning: Precision is ill-defined and being set to 0.0 in labels with no predicted samples. Use `zero_division` parameter to control this behavior.\n",
      "  _warn_prf(average, modifier, msg_start, len(result))\n",
      "C:\\conda\\envs\\ITS_IC\\lib\\site-packages\\sklearn\\metrics\\_classification.py:1334: UndefinedMetricWarning: Precision is ill-defined and being set to 0.0 in labels with no predicted samples. Use `zero_division` parameter to control this behavior.\n",
      "  _warn_prf(average, modifier, msg_start, len(result))\n",
      "C:\\conda\\envs\\ITS_IC\\lib\\site-packages\\sklearn\\metrics\\_classification.py:1334: UndefinedMetricWarning: Precision is ill-defined and being set to 0.0 in labels with no predicted samples. Use `zero_division` parameter to control this behavior.\n",
      "  _warn_prf(average, modifier, msg_start, len(result))\n",
      "C:\\conda\\envs\\ITS_IC\\lib\\site-packages\\sklearn\\metrics\\_classification.py:1334: UndefinedMetricWarning: Precision is ill-defined and being set to 0.0 in labels with no predicted samples. Use `zero_division` parameter to control this behavior.\n",
      "  _warn_prf(average, modifier, msg_start, len(result))\n",
      "C:\\conda\\envs\\ITS_IC\\lib\\site-packages\\sklearn\\utils\\extmath.py:152: RuntimeWarning: overflow encountered in matmul\n",
      "  ret = a @ b\n",
      "C:\\conda\\envs\\ITS_IC\\lib\\site-packages\\sklearn\\utils\\extmath.py:152: RuntimeWarning: invalid value encountered in matmul\n",
      "  ret = a @ b\n",
      "C:\\conda\\envs\\ITS_IC\\lib\\site-packages\\sklearn\\neural_network\\_multilayer_perceptron.py:702: ConvergenceWarning: Stochastic Optimizer: Maximum iterations (500) reached and the optimization hasn't converged yet.\n",
      "  warnings.warn(\n",
      "C:\\conda\\envs\\ITS_IC\\lib\\site-packages\\sklearn\\metrics\\_classification.py:1334: UndefinedMetricWarning: Precision is ill-defined and being set to 0.0 in labels with no predicted samples. Use `zero_division` parameter to control this behavior.\n",
      "  _warn_prf(average, modifier, msg_start, len(result))\n",
      "C:\\conda\\envs\\ITS_IC\\lib\\site-packages\\sklearn\\metrics\\_classification.py:1334: UndefinedMetricWarning: Precision is ill-defined and being set to 0.0 in labels with no predicted samples. Use `zero_division` parameter to control this behavior.\n",
      "  _warn_prf(average, modifier, msg_start, len(result))\n",
      "C:\\conda\\envs\\ITS_IC\\lib\\site-packages\\sklearn\\metrics\\_classification.py:1334: UndefinedMetricWarning: Precision is ill-defined and being set to 0.0 in labels with no predicted samples. Use `zero_division` parameter to control this behavior.\n",
      "  _warn_prf(average, modifier, msg_start, len(result))\n",
      "C:\\conda\\envs\\ITS_IC\\lib\\site-packages\\sklearn\\metrics\\_classification.py:1334: UndefinedMetricWarning: Precision is ill-defined and being set to 0.0 in labels with no predicted samples. Use `zero_division` parameter to control this behavior.\n",
      "  _warn_prf(average, modifier, msg_start, len(result))\n",
      "C:\\conda\\envs\\ITS_IC\\lib\\site-packages\\sklearn\\metrics\\_classification.py:1334: UndefinedMetricWarning: Precision is ill-defined and being set to 0.0 in labels with no predicted samples. Use `zero_division` parameter to control this behavior.\n",
      "  _warn_prf(average, modifier, msg_start, len(result))\n",
      "C:\\conda\\envs\\ITS_IC\\lib\\site-packages\\sklearn\\metrics\\_classification.py:1334: UndefinedMetricWarning: Precision is ill-defined and being set to 0.0 in labels with no predicted samples. Use `zero_division` parameter to control this behavior.\n",
      "  _warn_prf(average, modifier, msg_start, len(result))\n",
      "C:\\conda\\envs\\ITS_IC\\lib\\site-packages\\sklearn\\model_selection\\_validation.py:378: FitFailedWarning: \n",
      "1 fits failed out of a total of 90.\n",
      "The score on these train-test partitions for these parameters will be set to nan.\n",
      "If these failures are not expected, you can try to debug them by setting error_score='raise'.\n",
      "\n",
      "Below are more details about the failures:\n",
      "--------------------------------------------------------------------------------\n",
      "1 fits failed with the following error:\n",
      "Traceback (most recent call last):\n",
      "  File \"C:\\conda\\envs\\ITS_IC\\lib\\site-packages\\sklearn\\model_selection\\_validation.py\", line 686, in _fit_and_score\n",
      "    estimator.fit(X_train, y_train, **fit_params)\n",
      "  File \"C:\\conda\\envs\\ITS_IC\\lib\\site-packages\\sklearn\\neural_network\\_multilayer_perceptron.py\", line 762, in fit\n",
      "    return self._fit(X, y, incremental=False)\n",
      "  File \"C:\\conda\\envs\\ITS_IC\\lib\\site-packages\\sklearn\\neural_network\\_multilayer_perceptron.py\", line 448, in _fit\n",
      "    raise ValueError(\n",
      "ValueError: Solver produced non-finite parameter weights. The input data may contain large values and need to be preprocessed.\n",
      "\n",
      "  warnings.warn(some_fits_failed_message, FitFailedWarning)\n",
      "C:\\conda\\envs\\ITS_IC\\lib\\site-packages\\sklearn\\model_selection\\_search.py:953: UserWarning: One or more of the test scores are non-finite: [0.93122449 0.93607143 0.94923469 0.5669898  0.59954082 0.54183673\n",
      " 0.77191327 0.78627551 0.77566327 0.54964286 0.51020408        nan\n",
      " 0.59446429 0.66038265 0.64760204 0.85660714 0.81020408 0.86507653]\n",
      "  warnings.warn(\n",
      "C:\\conda\\envs\\ITS_IC\\lib\\site-packages\\sklearn\\model_selection\\_search.py:953: UserWarning: One or more of the train scores are non-finite: [0.96882015 0.97907526 0.98705357 0.56639031 0.60123724 0.54177296\n",
      " 0.77086097 0.78850128 0.77779337 0.55038903 0.51022959        nan\n",
      " 0.59843112 0.65899872 0.65137755 0.86441964 0.81552934 0.87233418]\n",
      "  warnings.warn(\n",
      "C:\\conda\\envs\\ITS_IC\\lib\\site-packages\\sklearn\\model_selection\\_search.py:953: UserWarning: One or more of the test scores are non-finite: [0.93263517 0.936355   0.94949708 0.44251564 0.55708527 0.43634385\n",
      " 0.7844153  0.78954554 0.78692548 0.40952298 0.35510256        nan\n",
      " 0.65818442 0.70918384 0.67630926 0.8568021  0.81464612 0.86642887]\n",
      "  warnings.warn(\n",
      "C:\\conda\\envs\\ITS_IC\\lib\\site-packages\\sklearn\\model_selection\\_search.py:953: UserWarning: One or more of the train scores are non-finite: [0.97007113 0.97917682 0.98707704 0.443783   0.63186288 0.43635065\n",
      " 0.7842887  0.79183962 0.78976595 0.56025693 0.35510855        nan\n",
      " 0.65948557 0.70640278 0.68151531 0.86463239 0.81977827 0.87383454]\n",
      "  warnings.warn(\n",
      "C:\\conda\\envs\\ITS_IC\\lib\\site-packages\\sklearn\\model_selection\\_search.py:953: UserWarning: One or more of the test scores are non-finite: [0.93083333 0.93618333 0.94944167 0.55881979 0.59858437 0.53900729\n",
      " 0.77257917 0.78569792 0.77519688 0.54248542 0.50000208        nan\n",
      " 0.59112083 0.66083333 0.64532083 0.85675833 0.81101042 0.86478125]\n",
      "  warnings.warn(\n",
      "C:\\conda\\envs\\ITS_IC\\lib\\site-packages\\sklearn\\model_selection\\_search.py:953: UserWarning: One or more of the train scores are non-finite: [0.96847578 0.97910417 0.98713047 0.55821328 0.60029844 0.53894219\n",
      " 0.77158698 0.78795234 0.77733151 0.54322734 0.50002604        nan\n",
      " 0.59506146 0.65944766 0.64902708 0.86458984 0.81634427 0.87204687]\n",
      "  warnings.warn(\n",
      "C:\\conda\\envs\\ITS_IC\\lib\\site-packages\\sklearn\\model_selection\\_search.py:953: UserWarning: One or more of the test scores are non-finite: [0.93106422 0.93604864 0.94922304 0.43862189 0.49677178 0.40906329\n",
      " 0.76914776 0.78524057 0.77226916 0.40863086 0.33793099        nan\n",
      " 0.53655059 0.61901149 0.62349757 0.85657301 0.80974388 0.86480671]\n",
      "  warnings.warn(\n",
      "C:\\conda\\envs\\ITS_IC\\lib\\site-packages\\sklearn\\model_selection\\_search.py:953: UserWarning: One or more of the train scores are non-finite: [0.96872543 0.97906718 0.98704918 0.4375763  0.4984875  0.40894728\n",
      " 0.7679411  0.78750407 0.77432127 0.40934737 0.33789561        nan\n",
      " 0.54075196 0.61702581 0.62705064 0.86438975 0.8151187  0.872059  ]\n",
      "  warnings.warn(\n"
     ]
    },
    {
     "data": {
      "text/html": [
       "<style>#sk-container-id-7 {color: black;background-color: white;}#sk-container-id-7 pre{padding: 0;}#sk-container-id-7 div.sk-toggleable {background-color: white;}#sk-container-id-7 label.sk-toggleable__label {cursor: pointer;display: block;width: 100%;margin-bottom: 0;padding: 0.3em;box-sizing: border-box;text-align: center;}#sk-container-id-7 label.sk-toggleable__label-arrow:before {content: \"▸\";float: left;margin-right: 0.25em;color: #696969;}#sk-container-id-7 label.sk-toggleable__label-arrow:hover:before {color: black;}#sk-container-id-7 div.sk-estimator:hover label.sk-toggleable__label-arrow:before {color: black;}#sk-container-id-7 div.sk-toggleable__content {max-height: 0;max-width: 0;overflow: hidden;text-align: left;background-color: #f0f8ff;}#sk-container-id-7 div.sk-toggleable__content pre {margin: 0.2em;color: black;border-radius: 0.25em;background-color: #f0f8ff;}#sk-container-id-7 input.sk-toggleable__control:checked~div.sk-toggleable__content {max-height: 200px;max-width: 100%;overflow: auto;}#sk-container-id-7 input.sk-toggleable__control:checked~label.sk-toggleable__label-arrow:before {content: \"▾\";}#sk-container-id-7 div.sk-estimator input.sk-toggleable__control:checked~label.sk-toggleable__label {background-color: #d4ebff;}#sk-container-id-7 div.sk-label input.sk-toggleable__control:checked~label.sk-toggleable__label {background-color: #d4ebff;}#sk-container-id-7 input.sk-hidden--visually {border: 0;clip: rect(1px 1px 1px 1px);clip: rect(1px, 1px, 1px, 1px);height: 1px;margin: -1px;overflow: hidden;padding: 0;position: absolute;width: 1px;}#sk-container-id-7 div.sk-estimator {font-family: monospace;background-color: #f0f8ff;border: 1px dotted black;border-radius: 0.25em;box-sizing: border-box;margin-bottom: 0.5em;}#sk-container-id-7 div.sk-estimator:hover {background-color: #d4ebff;}#sk-container-id-7 div.sk-parallel-item::after {content: \"\";width: 100%;border-bottom: 1px solid gray;flex-grow: 1;}#sk-container-id-7 div.sk-label:hover label.sk-toggleable__label {background-color: #d4ebff;}#sk-container-id-7 div.sk-serial::before {content: \"\";position: absolute;border-left: 1px solid gray;box-sizing: border-box;top: 0;bottom: 0;left: 50%;z-index: 0;}#sk-container-id-7 div.sk-serial {display: flex;flex-direction: column;align-items: center;background-color: white;padding-right: 0.2em;padding-left: 0.2em;position: relative;}#sk-container-id-7 div.sk-item {position: relative;z-index: 1;}#sk-container-id-7 div.sk-parallel {display: flex;align-items: stretch;justify-content: center;background-color: white;position: relative;}#sk-container-id-7 div.sk-item::before, #sk-container-id-7 div.sk-parallel-item::before {content: \"\";position: absolute;border-left: 1px solid gray;box-sizing: border-box;top: 0;bottom: 0;left: 50%;z-index: -1;}#sk-container-id-7 div.sk-parallel-item {display: flex;flex-direction: column;z-index: 1;position: relative;background-color: white;}#sk-container-id-7 div.sk-parallel-item:first-child::after {align-self: flex-end;width: 50%;}#sk-container-id-7 div.sk-parallel-item:last-child::after {align-self: flex-start;width: 50%;}#sk-container-id-7 div.sk-parallel-item:only-child::after {width: 0;}#sk-container-id-7 div.sk-dashed-wrapped {border: 1px dashed gray;margin: 0 0.4em 0.5em 0.4em;box-sizing: border-box;padding-bottom: 0.4em;background-color: white;}#sk-container-id-7 div.sk-label label {font-family: monospace;font-weight: bold;display: inline-block;line-height: 1.2em;}#sk-container-id-7 div.sk-label-container {text-align: center;}#sk-container-id-7 div.sk-container {/* jupyter's `normalize.less` sets `[hidden] { display: none; }` but bootstrap.min.css set `[hidden] { display: none !important; }` so we also need the `!important` here to be able to override the default hidden behavior on the sphinx rendered scikit-learn.org. See: https://github.com/scikit-learn/scikit-learn/issues/21755 */display: inline-block !important;position: relative;}#sk-container-id-7 div.sk-text-repr-fallback {display: none;}</style><div id=\"sk-container-id-7\" class=\"sk-top-container\"><div class=\"sk-text-repr-fallback\"><pre>GridSearchCV(cv=5, estimator=MLPClassifier(),\n",
       "             param_grid=[{&#x27;activation&#x27;: [&#x27;relu&#x27;, &#x27;tanh&#x27;, &#x27;logistic&#x27;],\n",
       "                          &#x27;hidden_layer_sizes&#x27;: [(150, 100, 50), (75, 50, 25),\n",
       "                                                 (300, 200, 100)],\n",
       "                          &#x27;max_iter&#x27;: [200], &#x27;solver&#x27;: [&#x27;adam&#x27;]},\n",
       "                         {&#x27;activation&#x27;: [&#x27;relu&#x27;, &#x27;tanh&#x27;, &#x27;logistic&#x27;],\n",
       "                          &#x27;hidden_layer_sizes&#x27;: [(150, 100, 50), (75, 50, 25),\n",
       "                                                 (300, 200, 100)],\n",
       "                          &#x27;max_iter&#x27;: [500], &#x27;solver&#x27;: [&#x27;sgd&#x27;]}],\n",
       "             refit=&#x27;f1_macro&#x27;, return_train_score=True,\n",
       "             scoring=[&#x27;accuracy&#x27;, &#x27;precision_macro&#x27;, &#x27;recall_macro&#x27;,\n",
       "                      &#x27;f1_macro&#x27;])</pre><b>In a Jupyter environment, please rerun this cell to show the HTML representation or trust the notebook. <br />On GitHub, the HTML representation is unable to render, please try loading this page with nbviewer.org.</b></div><div class=\"sk-container\" hidden><div class=\"sk-item sk-dashed-wrapped\"><div class=\"sk-label-container\"><div class=\"sk-label sk-toggleable\"><input class=\"sk-toggleable__control sk-hidden--visually\" id=\"sk-estimator-id-17\" type=\"checkbox\" ><label for=\"sk-estimator-id-17\" class=\"sk-toggleable__label sk-toggleable__label-arrow\">GridSearchCV</label><div class=\"sk-toggleable__content\"><pre>GridSearchCV(cv=5, estimator=MLPClassifier(),\n",
       "             param_grid=[{&#x27;activation&#x27;: [&#x27;relu&#x27;, &#x27;tanh&#x27;, &#x27;logistic&#x27;],\n",
       "                          &#x27;hidden_layer_sizes&#x27;: [(150, 100, 50), (75, 50, 25),\n",
       "                                                 (300, 200, 100)],\n",
       "                          &#x27;max_iter&#x27;: [200], &#x27;solver&#x27;: [&#x27;adam&#x27;]},\n",
       "                         {&#x27;activation&#x27;: [&#x27;relu&#x27;, &#x27;tanh&#x27;, &#x27;logistic&#x27;],\n",
       "                          &#x27;hidden_layer_sizes&#x27;: [(150, 100, 50), (75, 50, 25),\n",
       "                                                 (300, 200, 100)],\n",
       "                          &#x27;max_iter&#x27;: [500], &#x27;solver&#x27;: [&#x27;sgd&#x27;]}],\n",
       "             refit=&#x27;f1_macro&#x27;, return_train_score=True,\n",
       "             scoring=[&#x27;accuracy&#x27;, &#x27;precision_macro&#x27;, &#x27;recall_macro&#x27;,\n",
       "                      &#x27;f1_macro&#x27;])</pre></div></div></div><div class=\"sk-parallel\"><div class=\"sk-parallel-item\"><div class=\"sk-item\"><div class=\"sk-label-container\"><div class=\"sk-label sk-toggleable\"><input class=\"sk-toggleable__control sk-hidden--visually\" id=\"sk-estimator-id-18\" type=\"checkbox\" ><label for=\"sk-estimator-id-18\" class=\"sk-toggleable__label sk-toggleable__label-arrow\">estimator: MLPClassifier</label><div class=\"sk-toggleable__content\"><pre>MLPClassifier()</pre></div></div></div><div class=\"sk-serial\"><div class=\"sk-item\"><div class=\"sk-estimator sk-toggleable\"><input class=\"sk-toggleable__control sk-hidden--visually\" id=\"sk-estimator-id-19\" type=\"checkbox\" ><label for=\"sk-estimator-id-19\" class=\"sk-toggleable__label sk-toggleable__label-arrow\">MLPClassifier</label><div class=\"sk-toggleable__content\"><pre>MLPClassifier()</pre></div></div></div></div></div></div></div></div></div></div>"
      ],
      "text/plain": [
       "GridSearchCV(cv=5, estimator=MLPClassifier(),\n",
       "             param_grid=[{'activation': ['relu', 'tanh', 'logistic'],\n",
       "                          'hidden_layer_sizes': [(150, 100, 50), (75, 50, 25),\n",
       "                                                 (300, 200, 100)],\n",
       "                          'max_iter': [200], 'solver': ['adam']},\n",
       "                         {'activation': ['relu', 'tanh', 'logistic'],\n",
       "                          'hidden_layer_sizes': [(150, 100, 50), (75, 50, 25),\n",
       "                                                 (300, 200, 100)],\n",
       "                          'max_iter': [500], 'solver': ['sgd']}],\n",
       "             refit='f1_macro', return_train_score=True,\n",
       "             scoring=['accuracy', 'precision_macro', 'recall_macro',\n",
       "                      'f1_macro'])"
      ]
     },
     "execution_count": 51,
     "metadata": {},
     "output_type": "execute_result"
    }
   ],
   "source": [
    "grid2 = [\n",
    "    {\n",
    "        'hidden_layer_sizes': [(300, 200, 100), (450, 250, 150),(600, 300, 200)],\n",
    "        'max_iter': [200, 300, 400],\n",
    "        'activation': ['relu'],\n",
    "        'solver': ['adam'],\n",
    "        'shuffle': [True, False],\n",
    "        'verbose': [True],\n",
    "    }\n",
    "]\n",
    "tipos_de_metricas = ['accuracy', 'precision_macro', 'recall_macro']\n",
    "\n",
    "grid_search_2 = GridSearchCV(estimator=mlp_classifier, param_grid=grid2, cv=5, refit='f1_macro', scoring=tipos_de_metricas, return_train_score=True)\n",
    "grid_search.fit(train_set, train_set_labels)"
   ]
  },
  {
   "cell_type": "code",
   "execution_count": 53,
   "id": "04a6ba95",
   "metadata": {},
   "outputs": [
    {
     "data": {
      "text/plain": [
       "39200"
      ]
     },
     "execution_count": 53,
     "metadata": {},
     "output_type": "execute_result"
    }
   ],
   "source": []
  },
  {
   "cell_type": "code",
   "execution_count": 52,
   "id": "2491f9f4",
   "metadata": {},
   "outputs": [
    {
     "ename": "AttributeError",
     "evalue": "'GridSearchCV' object has no attribute 'best_params_'",
     "output_type": "error",
     "traceback": [
      "\u001b[1;31m---------------------------------------------------------------------------\u001b[0m",
      "\u001b[1;31mAttributeError\u001b[0m                            Traceback (most recent call last)",
      "Cell \u001b[1;32mIn[52], line 1\u001b[0m\n\u001b[1;32m----> 1\u001b[0m \u001b[43mgrid_search_2\u001b[49m\u001b[38;5;241;43m.\u001b[39;49m\u001b[43mbest_params_\u001b[49m\n",
      "\u001b[1;31mAttributeError\u001b[0m: 'GridSearchCV' object has no attribute 'best_params_'"
     ]
    }
   ],
   "source": [
    "grid_search_2.best_params_"
   ]
  }
 ],
 "metadata": {
  "kernelspec": {
   "display_name": "Python 3 (ipykernel)",
   "language": "python",
   "name": "python3"
  },
  "language_info": {
   "codemirror_mode": {
    "name": "ipython",
    "version": 3
   },
   "file_extension": ".py",
   "mimetype": "text/x-python",
   "name": "python",
   "nbconvert_exporter": "python",
   "pygments_lexer": "ipython3",
   "version": "3.9.13"
  }
 },
 "nbformat": 4,
 "nbformat_minor": 5
}
